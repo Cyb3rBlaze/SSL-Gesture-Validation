{
 "cells": [
  {
   "cell_type": "markdown",
   "metadata": {},
   "source": [
    "### Imports"
   ]
  },
  {
   "cell_type": "code",
   "execution_count": 1,
   "metadata": {},
   "outputs": [],
   "source": [
    "import numpy as np\n",
    "\n",
    "import os"
   ]
  },
  {
   "cell_type": "markdown",
   "metadata": {},
   "source": [
    "### Data specifications"
   ]
  },
  {
   "cell_type": "code",
   "execution_count": 2,
   "metadata": {},
   "outputs": [],
   "source": [
    "# data info\n",
    "TYPE = \"MOCHA-TMIT\"\n",
    "DATA_DIR = \"../data/cin_us_fjmw0/\""
   ]
  },
  {
   "cell_type": "markdown",
   "metadata": {},
   "source": [
    "### Load + visualize numpy data"
   ]
  },
  {
   "cell_type": "code",
   "execution_count": 5,
   "metadata": {},
   "outputs": [
    {
     "data": {
      "text/plain": [
       "(597, 12)"
      ]
     },
     "execution_count": 5,
     "metadata": {},
     "output_type": "execute_result"
    }
   ],
   "source": [
    "FILENAME = \"fjmw0_001\"\n",
    "\n",
    "np_data = np.load(os.path.join(DATA_DIR, \"nema_npy\", FILENAME + \".npy\"))\n",
    "np_data.shape"
   ]
  },
  {
   "cell_type": "markdown",
   "metadata": {},
   "source": [
    "### Load sample phoneme data"
   ]
  },
  {
   "cell_type": "code",
   "execution_count": 6,
   "metadata": {},
   "outputs": [
    {
     "data": {
      "text/plain": [
       "['pau',\n",
       " 'pau',\n",
       " 'pau',\n",
       " 'pau',\n",
       " 'pau',\n",
       " 'dh',\n",
       " 'ih',\n",
       " 's',\n",
       " 'ssil',\n",
       " 'w',\n",
       " 'aa',\n",
       " 'z',\n",
       " 'ssil',\n",
       " 'iy',\n",
       " 'z',\n",
       " 'iy',\n",
       " 'f',\n",
       " 'ao',\n",
       " 'r',\n",
       " 'ah',\n",
       " 's',\n",
       " 'pau']"
      ]
     },
     "execution_count": 6,
     "metadata": {},
     "output_type": "execute_result"
    }
   ],
   "source": [
    "phone_list = []\n",
    "\n",
    "with open(os.path.join(DATA_DIR, \"lab\", FILENAME + \".lab\"), \"r\") as f:\n",
    "    for _, line in enumerate(f):\n",
    "        parsed_arr = line.split(\" \")\n",
    "        if len(parsed_arr) > 1:\n",
    "            phone_list += [parsed_arr[2].replace(\"\\n\", \"\")]\n",
    "    \n",
    "phone_list"
   ]
  },
  {
   "cell_type": "markdown",
   "metadata": {},
   "source": [
    "### Vocab analysis"
   ]
  },
  {
   "cell_type": "code",
   "execution_count": 7,
   "metadata": {},
   "outputs": [
    {
     "name": "stdout",
     "output_type": "stream",
     "text": [
      "Vocab length: 42\n"
     ]
    },
    {
     "data": {
      "text/plain": [
       "['pau',\n",
       " 'dh',\n",
       " 'ow',\n",
       " 'z',\n",
       " 'm',\n",
       " 'y',\n",
       " 'uw',\n",
       " 'ih',\n",
       " 'sh',\n",
       " 'ax',\n",
       " 'n',\n",
       " 'hh',\n",
       " 'aa',\n",
       " 'r',\n",
       " 'ay',\n",
       " 'v',\n",
       " 'eh',\n",
       " 'l',\n",
       " 's',\n",
       " 'iy',\n",
       " 'p',\n",
       " 't',\n",
       " 'ae',\n",
       " 'k',\n",
       " 'ssil',\n",
       " 'f',\n",
       " 'ao',\n",
       " 'jh',\n",
       " 'ah',\n",
       " 'd',\n",
       " 'er',\n",
       " 'b',\n",
       " 'th',\n",
       " 'ey',\n",
       " 'w',\n",
       " 'ng',\n",
       " 'g',\n",
       " 'aw',\n",
       " 'ch',\n",
       " 'oy',\n",
       " 'uh',\n",
       " 'zh']"
      ]
     },
     "execution_count": 7,
     "metadata": {},
     "output_type": "execute_result"
    }
   ],
   "source": [
    "files = os.listdir(os.path.join(DATA_DIR, \"lab\"))\n",
    "\n",
    "all_phone_list = []\n",
    "\n",
    "for file in files:\n",
    "    if file[-3:] == \"lab\":\n",
    "        with open(os.path.join(DATA_DIR, \"lab\", file), \"r\") as f:\n",
    "            for _, line in enumerate(f):\n",
    "                parsed_arr = line.split(\" \")\n",
    "                if len(parsed_arr) > 1:\n",
    "                    all_phone_list += [parsed_arr[2].replace(\"\\n\", \"\")]\n",
    "\n",
    "phone_vocab = []\n",
    " \n",
    "for phone in all_phone_list:\n",
    "    if phone not in phone_vocab:\n",
    "        phone_vocab += [phone]\n",
    "\n",
    "print(\"Vocab length: \" + str(len(phone_vocab)))\n",
    "\n",
    "phone_vocab"
   ]
  },
  {
   "cell_type": "markdown",
   "metadata": {},
   "source": [
    "### Max temporal dim"
   ]
  },
  {
   "cell_type": "code",
   "execution_count": 8,
   "metadata": {},
   "outputs": [
    {
     "name": "stdout",
     "output_type": "stream",
     "text": [
      "Max EMA seq len: 1339\n"
     ]
    }
   ],
   "source": [
    "files = os.listdir(os.path.join(DATA_DIR, \"nema_npy\"))\n",
    "\n",
    "max_temporal_dim = 0\n",
    "\n",
    "for file in files:\n",
    "    npy_data = np.load(os.path.join(DATA_DIR, \"nema_npy\", file))\n",
    "\n",
    "    if npy_data.shape[0] > max_temporal_dim:\n",
    "        max_temporal_dim = npy_data.shape[0]\n",
    "    \n",
    "print(\"Max EMA seq len: \" + str(max_temporal_dim))"
   ]
  }
 ],
 "metadata": {
  "kernelspec": {
   "display_name": "ssl-gesture",
   "language": "python",
   "name": "python3"
  },
  "language_info": {
   "codemirror_mode": {
    "name": "ipython",
    "version": 3
   },
   "file_extension": ".py",
   "mimetype": "text/x-python",
   "name": "python",
   "nbconvert_exporter": "python",
   "pygments_lexer": "ipython3",
   "version": "3.10.10"
  },
  "orig_nbformat": 4
 },
 "nbformat": 4,
 "nbformat_minor": 2
}
