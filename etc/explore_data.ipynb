{
 "cells": [
  {
   "cell_type": "markdown",
   "metadata": {},
   "source": [
    "### Imports"
   ]
  },
  {
   "cell_type": "code",
   "execution_count": 1,
   "metadata": {},
   "outputs": [],
   "source": [
    "import numpy as np\n",
    "\n",
    "import os"
   ]
  },
  {
   "cell_type": "markdown",
   "metadata": {},
   "source": [
    "### Data specifications"
   ]
  },
  {
   "cell_type": "code",
   "execution_count": 2,
   "metadata": {},
   "outputs": [],
   "source": [
    "# data info\n",
    "TYPE = \"MOCHA-TMIT\"\n",
    "DATA_DIR = \"../data/cin_us_mngu0/\""
   ]
  },
  {
   "cell_type": "markdown",
   "metadata": {},
   "source": [
    "### Load + visualize numpy data"
   ]
  },
  {
   "cell_type": "code",
   "execution_count": 4,
   "metadata": {},
   "outputs": [
    {
     "data": {
      "text/plain": [
       "(657, 12)"
      ]
     },
     "execution_count": 4,
     "metadata": {},
     "output_type": "execute_result"
    }
   ],
   "source": [
    "FILENAME = \"mngu0_s1_0001\"\n",
    "\n",
    "np_data = np.load(os.path.join(DATA_DIR, \"nema_npy\", FILENAME + \".npy\"))\n",
    "np_data.shape"
   ]
  },
  {
   "cell_type": "markdown",
   "metadata": {},
   "source": [
    "### Load sample phoneme data"
   ]
  },
  {
   "cell_type": "code",
   "execution_count": 5,
   "metadata": {},
   "outputs": [
    {
     "data": {
      "text/plain": [
       "['pau',\n",
       " 'pau',\n",
       " 'ih',\n",
       " 'f',\n",
       " 'y',\n",
       " 'uw',\n",
       " 'w',\n",
       " 'aa',\n",
       " 'n',\n",
       " 't',\n",
       " 't',\n",
       " 'ax',\n",
       " 'r',\n",
       " 'eh',\n",
       " 'g',\n",
       " 'y',\n",
       " 'ax',\n",
       " 'l',\n",
       " 'ey',\n",
       " 't',\n",
       " 'n',\n",
       " 'oy',\n",
       " 'z',\n",
       " 'pau',\n",
       " 'pau',\n",
       " 'r',\n",
       " 'eh',\n",
       " 'g',\n",
       " 'y',\n",
       " 'ax',\n",
       " 'l',\n",
       " 'ey',\n",
       " 't',\n",
       " 'n',\n",
       " 'oy',\n",
       " 'z',\n",
       " 'pau',\n",
       " 'pau',\n",
       " 'pau',\n",
       " 'pau']"
      ]
     },
     "execution_count": 5,
     "metadata": {},
     "output_type": "execute_result"
    }
   ],
   "source": [
    "phone_list = []\n",
    "\n",
    "with open(os.path.join(DATA_DIR, \"lab\", FILENAME + \".lab\"), \"r\") as f:\n",
    "    for _, line in enumerate(f):\n",
    "        parsed_arr = line.split(\" \")\n",
    "        if len(parsed_arr) > 1:\n",
    "            phone_list += [parsed_arr[2].replace(\"\\n\", \"\")]\n",
    "    \n",
    "phone_list"
   ]
  },
  {
   "cell_type": "markdown",
   "metadata": {},
   "source": [
    "### Vocab analysis"
   ]
  },
  {
   "cell_type": "code",
   "execution_count": 7,
   "metadata": {},
   "outputs": [
    {
     "name": "stdout",
     "output_type": "stream",
     "text": [
      "Vocab length: 42\n"
     ]
    },
    {
     "data": {
      "text/plain": [
       "['pau',\n",
       " 'dh',\n",
       " 'ax',\n",
       " 'r',\n",
       " 'eh',\n",
       " 'z',\n",
       " 'g',\n",
       " 'n',\n",
       " 'ey',\n",
       " 'sh',\n",
       " 'l',\n",
       " 't',\n",
       " 'er',\n",
       " 'w',\n",
       " 'ah',\n",
       " 'hh',\n",
       " 'uw',\n",
       " 'd',\n",
       " 'ow',\n",
       " 'ssil',\n",
       " 'ay',\n",
       " 'f',\n",
       " 'k',\n",
       " 'ih',\n",
       " 'iy',\n",
       " 'ao',\n",
       " 's',\n",
       " 'aa',\n",
       " 'b',\n",
       " 'm',\n",
       " 'ae',\n",
       " 'ng',\n",
       " 'v',\n",
       " 'uh',\n",
       " 'p',\n",
       " 'y',\n",
       " 'th',\n",
       " 'aw',\n",
       " 'ch',\n",
       " 'jh',\n",
       " 'oy',\n",
       " 'zh']"
      ]
     },
     "execution_count": 7,
     "metadata": {},
     "output_type": "execute_result"
    }
   ],
   "source": [
    "files = os.listdir(os.path.join(DATA_DIR, \"lab\"))\n",
    "\n",
    "all_phone_list = []\n",
    "\n",
    "for file in files:\n",
    "    if file[-3:] == \"lab\":\n",
    "        with open(os.path.join(DATA_DIR, \"lab\", file), \"r\") as f:\n",
    "            for _, line in enumerate(f):\n",
    "                parsed_arr = line.split(\" \")\n",
    "                if len(parsed_arr) > 1:\n",
    "                    all_phone_list += [parsed_arr[2].replace(\"\\n\", \"\")]\n",
    "\n",
    "phone_vocab = []\n",
    " \n",
    "for phone in all_phone_list:\n",
    "    if phone not in phone_vocab:\n",
    "        phone_vocab += [phone]\n",
    "\n",
    "print(\"Vocab length: \" + str(len(phone_vocab)))\n",
    "\n",
    "phone_vocab"
   ]
  },
  {
   "cell_type": "markdown",
   "metadata": {},
   "source": [
    "### Max temporal dim"
   ]
  },
  {
   "cell_type": "code",
   "execution_count": 8,
   "metadata": {},
   "outputs": [
    {
     "name": "stdout",
     "output_type": "stream",
     "text": [
      "Max EMA seq len: 3399\n"
     ]
    }
   ],
   "source": [
    "files = os.listdir(os.path.join(DATA_DIR, \"nema_npy\"))\n",
    "\n",
    "max_temporal_dim = 0\n",
    "\n",
    "for file in files:\n",
    "    npy_data = np.load(os.path.join(DATA_DIR, \"nema_npy\", file))\n",
    "\n",
    "    if npy_data.shape[0] > max_temporal_dim:\n",
    "        max_temporal_dim = npy_data.shape[0]\n",
    "    \n",
    "print(\"Max EMA seq len: \" + str(max_temporal_dim))"
   ]
  }
 ],
 "metadata": {
  "kernelspec": {
   "display_name": "ssl-gesture",
   "language": "python",
   "name": "python3"
  },
  "language_info": {
   "codemirror_mode": {
    "name": "ipython",
    "version": 3
   },
   "file_extension": ".py",
   "mimetype": "text/x-python",
   "name": "python",
   "nbconvert_exporter": "python",
   "pygments_lexer": "ipython3",
   "version": "3.10.10"
  },
  "orig_nbformat": 4
 },
 "nbformat": 4,
 "nbformat_minor": 2
}
